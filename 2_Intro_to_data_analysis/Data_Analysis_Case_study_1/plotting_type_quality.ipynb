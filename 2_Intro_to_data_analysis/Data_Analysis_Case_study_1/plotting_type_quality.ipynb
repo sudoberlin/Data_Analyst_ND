{
 "cells": [
  {
   "cell_type": "markdown",
   "metadata": {
    "collapsed": true
   },
   "source": [
    "# Plotting Wine Type and Quality with Matplotlib"
   ]
  },
  {
   "cell_type": "code",
   "execution_count": 20,
   "metadata": {},
   "outputs": [],
   "source": [
    "import numpy as np\n",
    "import pandas as pd\n",
    "import matplotlib.pyplot as plt\n",
    "% matplotlib inline\n",
    "import seaborn as sns\n",
    "sns.set_style('darkgrid')\n",
    "\n",
    "wine_df = pd.read_csv('winequality_edited.csv')\n"
   ]
  },
  {
   "cell_type": "markdown",
   "metadata": {},
   "source": [
    "### Create arrays for red bar heights white bar heights\n",
    "Remember, there's a bar for each combination of color and quality rating. Each bar's height is based on the proportion of samples of that color with that quality rating.\n",
    "1. Red bar proportions = counts for each quality rating / total # of red samples\n",
    "2. White bar proportions = counts for each quality rating / total # of white samples"
   ]
  },
  {
   "cell_type": "code",
   "execution_count": 21,
   "metadata": {},
   "outputs": [
    {
     "data": {
      "text/plain": [
       "color  quality\n",
       "red    3            10\n",
       "       4            53\n",
       "       5           681\n",
       "       6           638\n",
       "       7           199\n",
       "       8            18\n",
       "white  3            20\n",
       "       4           163\n",
       "       5          1457\n",
       "       6          2198\n",
       "       7           880\n",
       "       8           175\n",
       "       9             5\n",
       "Name: pH, dtype: int64"
      ]
     },
     "execution_count": 21,
     "metadata": {},
     "output_type": "execute_result"
    }
   ],
   "source": [
    "# get counts for each rating and color\n",
    "color_counts = wine_df.groupby(['color', 'quality']).count()['pH']\n",
    "color_counts"
   ]
  },
  {
   "cell_type": "code",
   "execution_count": 22,
   "metadata": {},
   "outputs": [
    {
     "data": {
      "text/plain": [
       "color\n",
       "red      1599\n",
       "white    4898\n",
       "Name: pH, dtype: int64"
      ]
     },
     "execution_count": 22,
     "metadata": {},
     "output_type": "execute_result"
    }
   ],
   "source": [
    "# get total counts for each color\n",
    "color_totals = wine_df.groupby('color').count()['pH']\n",
    "color_totals"
   ]
  },
  {
   "cell_type": "code",
   "execution_count": 23,
   "metadata": {},
   "outputs": [
    {
     "data": {
      "text/plain": [
       "quality\n",
       "3    0.006254\n",
       "4    0.033146\n",
       "5    0.425891\n",
       "6    0.398999\n",
       "7    0.124453\n",
       "8    0.011257\n",
       "Name: pH, dtype: float64"
      ]
     },
     "execution_count": 23,
     "metadata": {},
     "output_type": "execute_result"
    }
   ],
   "source": [
    "# get proportions by dividing red rating counts by total # of red samples\n",
    "red_proportions = color_counts['red'] / color_totals['red']\n",
    "red_proportions"
   ]
  },
  {
   "cell_type": "code",
   "execution_count": 24,
   "metadata": {},
   "outputs": [
    {
     "data": {
      "text/plain": [
       "quality\n",
       "3    0.004083\n",
       "4    0.033279\n",
       "5    0.297468\n",
       "6    0.448755\n",
       "7    0.179665\n",
       "8    0.035729\n",
       "9    0.001021\n",
       "Name: pH, dtype: float64"
      ]
     },
     "execution_count": 24,
     "metadata": {},
     "output_type": "execute_result"
    }
   ],
   "source": [
    "# get proportions by dividing white rating counts by total # of white samples\n",
    "white_proportions = color_counts['white'] / color_totals['white']\n",
    "white_proportions"
   ]
  },
  {
   "cell_type": "markdown",
   "metadata": {},
   "source": [
    "### Plot proportions on a bar chart\n",
    "Set the x coordinate location for each rating group and and width of each bar."
   ]
  },
  {
   "cell_type": "code",
   "execution_count": 30,
   "metadata": {},
   "outputs": [
    {
     "data": {
      "text/plain": [
       "quality\n",
       "3    0.006254\n",
       "4    0.033146\n",
       "5    0.425891\n",
       "6    0.398999\n",
       "7    0.124453\n",
       "8    0.011257\n",
       "9    0.000000\n",
       "Name: pH, dtype: float64"
      ]
     },
     "execution_count": 30,
     "metadata": {},
     "output_type": "execute_result"
    }
   ],
   "source": [
    "red_proportions['9'] = 0\n",
    "red_proportions"
   ]
  },
  {
   "cell_type": "code",
   "execution_count": 33,
   "metadata": {},
   "outputs": [],
   "source": [
    "ind = np.arange(len(red_proportions))  # the x locations for the groups\n",
    "width = 0.5      # the width of the bars"
   ]
  },
  {
   "cell_type": "markdown",
   "metadata": {},
   "source": [
    "Now let’s create the plot."
   ]
  },
  {
   "cell_type": "code",
   "execution_count": 34,
   "metadata": {},
   "outputs": [
    {
     "data": {
      "image/png": "[encoded data removed]",
      "text/plain": [
       "<matplotlib.figure.Figure at 0x7f657cb4a1d0>"
      ]
     },
     "metadata": {},
     "output_type": "display_data"
    }
   ],
   "source": [
    "# plot bars\n",
    "red_bars = plt.bar(ind, red_proportions, width, color='r', alpha=.7, label='Red Wine')\n",
    "white_bars = plt.bar(ind + width, white_proportions, width, color='w', alpha=.7, label='White Wine')\n",
    "\n",
    "# title and labels\n",
    "plt.ylabel('Proportion')\n",
    "plt.xlabel('Quality')\n",
    "plt.title('Proportion by Wine Color and Quality')\n",
    "locations = ind + width / 2  # xtick locations\n",
    "labels = ['3', '4', '5', '6', '7', '8', '9']  # xtick labels\n",
    "plt.xticks(locations, labels)\n",
    "\n",
    "# legend\n",
    "plt.legend();"
   ]
  },
  {
   "cell_type": "markdown",
   "metadata": {},
   "source": [
    "Oh, that didn't work because we're missing a red wine value for a the 9 rating. Even though this number is a 0, we need it for our plot. Run the last two cells after running the cell below."
   ]
  },
  {
   "cell_type": "code",
   "execution_count": 27,
   "metadata": {},
   "outputs": [
    {
     "data": {
      "text/plain": [
       "quality\n",
       "3    0.006254\n",
       "4    0.033146\n",
       "5    0.425891\n",
       "6    0.398999\n",
       "7    0.124453\n",
       "8    0.011257\n",
       "9    0.000000\n",
       "Name: pH, dtype: float64"
      ]
     },
     "execution_count": 27,
     "metadata": {},
     "output_type": "execute_result"
    }
   ],
   "source": [
    "red_proportions['9'] = 0\n",
    "red_proportions"
   ]
  },
  {
   "cell_type": "code",
   "execution_count": null,
   "metadata": {},
   "outputs": [],
   "source": []
  },
  {
   "cell_type": "code",
   "execution_count": null,
   "metadata": {},
   "outputs": [],
   "source": []
  },
  {
   "cell_type": "code",
   "execution_count": null,
   "metadata": {},
   "outputs": [],
   "source": []
  }
 ],
 "metadata": {
  "kernelspec": {
   "display_name": "Python 3",
   "language": "python",
   "name": "python3"
  },
  "language_info": {
   "codemirror_mode": {
    "name": "ipython",
    "version": 3
   },
   "file_extension": ".py",
   "mimetype": "text/x-python",
   "name": "python",
   "nbconvert_exporter": "python",
   "pygments_lexer": "ipython3",
   "version": "3.6.3"
  }
 },
 "nbformat": 4,
 "nbformat_minor": 2
}
