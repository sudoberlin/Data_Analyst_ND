{
 "cells": [
  {
   "cell_type": "markdown",
   "metadata": {},
   "source": [
    "# Fixing `cyl` Data Type\n",
    "- 2008: extract int from string\n",
    "- 2018: convert float to int\n",
    "\n",
    "Load datasets `data_08_v2.csv` and `data_18_v2.csv`. You should've created these data files in the previous section: *Filter, Drop Nulls, Dedupe*."
   ]
  },
  {
   "cell_type": "code",
   "execution_count": 46,
   "metadata": {},
   "outputs": [
    {
     "name": "stdout",
     "output_type": "stream",
     "text": [
      "<class 'pandas.core.frame.DataFrame'>\n",
      "RangeIndex: 986 entries, 0 to 985\n",
      "Data columns (total 13 columns):\n",
      "model                   986 non-null object\n",
      "displ                   986 non-null float64\n",
      "cyl                     986 non-null object\n",
      "trans                   986 non-null object\n",
      "drive                   986 non-null object\n",
      "fuel                    986 non-null object\n",
      "veh_class               986 non-null object\n",
      "air_pollution_score     986 non-null object\n",
      "city_mpg                986 non-null object\n",
      "hwy_mpg                 986 non-null object\n",
      "cmb_mpg                 986 non-null object\n",
      "greenhouse_gas_score    986 non-null object\n",
      "smartway                986 non-null object\n",
      "dtypes: float64(1), object(12)\n",
      "memory usage: 100.2+ KB\n"
     ]
    }
   ],
   "source": [
    "# load datasets\n",
    "import pandas as pd\n",
    "df_08 = pd.read_csv('data_08_v2.csv')\n",
    "df_18 = pd.read_csv('data_18_v2.csv')\n",
    "df_08.info()"
   ]
  },
  {
   "cell_type": "code",
   "execution_count": 47,
   "metadata": {},
   "outputs": [
    {
     "name": "stdout",
     "output_type": "stream",
     "text": [
      "<class 'pandas.core.frame.DataFrame'>\n",
      "RangeIndex: 794 entries, 0 to 793\n",
      "Data columns (total 13 columns):\n",
      "model                   794 non-null object\n",
      "displ                   794 non-null float64\n",
      "cyl                     794 non-null float64\n",
      "trans                   794 non-null object\n",
      "drive                   794 non-null object\n",
      "fuel                    794 non-null object\n",
      "veh_class               794 non-null object\n",
      "air_pollution_score     794 non-null int64\n",
      "city_mpg                794 non-null object\n",
      "hwy_mpg                 794 non-null object\n",
      "cmb_mpg                 794 non-null object\n",
      "greenhouse_gas_score    794 non-null int64\n",
      "smartway                794 non-null object\n",
      "dtypes: float64(2), int64(2), object(9)\n",
      "memory usage: 80.7+ KB\n"
     ]
    }
   ],
   "source": [
    "df_18.info()"
   ]
  },
  {
   "cell_type": "code",
   "execution_count": 48,
   "metadata": {},
   "outputs": [
    {
     "data": {
      "text/plain": [
       "(6 cyl)     409\n",
       "(4 cyl)     283\n",
       "(8 cyl)     199\n",
       "(5 cyl)      48\n",
       "(12 cyl)     30\n",
       "(10 cyl)     14\n",
       "(2 cyl)       2\n",
       "(16 cyl)      1\n",
       "Name: cyl, dtype: int64"
      ]
     },
     "execution_count": 48,
     "metadata": {},
     "output_type": "execute_result"
    }
   ],
   "source": [
    "# check value counts for the 2008 cyl column\n",
    "df_08['cyl'].value_counts()"
   ]
  },
  {
   "cell_type": "markdown",
   "metadata": {},
   "source": [
    "Read [this](https://stackoverflow.com/questions/35376387/extract-int-from-string-in-pandas) to help you extract ints from strings in Pandas for the next step."
   ]
  },
  {
   "cell_type": "code",
   "execution_count": 49,
   "metadata": {},
   "outputs": [],
   "source": [
    "# Extract int from strings in the 2008 cyl column\n",
    "df_08['cyl'] = df_08['cyl'].str.extract('(\\d+)').astype(int)"
   ]
  },
  {
   "cell_type": "code",
   "execution_count": 50,
   "metadata": {},
   "outputs": [
    {
     "data": {
      "text/plain": [
       "6     409\n",
       "4     283\n",
       "8     199\n",
       "5      48\n",
       "12     30\n",
       "10     14\n",
       "2       2\n",
       "16      1\n",
       "Name: cyl, dtype: int64"
      ]
     },
     "execution_count": 50,
     "metadata": {},
     "output_type": "execute_result"
    }
   ],
   "source": [
    "# Check value counts for 2008 cyl column again to confirm the change\n",
    "df_08['cyl'].value_counts()"
   ]
  },
  {
   "cell_type": "code",
   "execution_count": 51,
   "metadata": {},
   "outputs": [
    {
     "data": {
      "text/plain": [
       "4.0     365\n",
       "6.0     246\n",
       "8.0     153\n",
       "3.0      18\n",
       "12.0      9\n",
       "5.0       2\n",
       "16.0      1\n",
       "Name: cyl, dtype: int64"
      ]
     },
     "execution_count": 51,
     "metadata": {},
     "output_type": "execute_result"
    }
   ],
   "source": [
    "df_18['cyl'].value_counts()"
   ]
  },
  {
   "cell_type": "code",
   "execution_count": 52,
   "metadata": {},
   "outputs": [],
   "source": [
    "# convert 2018 cyl column to int\n",
    "df_18['cyl'] = df_18['cyl'].astype(int)\n"
   ]
  },
  {
   "cell_type": "code",
   "execution_count": 53,
   "metadata": {},
   "outputs": [
    {
     "data": {
      "text/plain": [
       "4     365\n",
       "6     246\n",
       "8     153\n",
       "3      18\n",
       "12      9\n",
       "5       2\n",
       "16      1\n",
       "Name: cyl, dtype: int64"
      ]
     },
     "execution_count": 53,
     "metadata": {},
     "output_type": "execute_result"
    }
   ],
   "source": [
    "df_18['cyl'].value_counts()"
   ]
  },
  {
   "cell_type": "code",
   "execution_count": 54,
   "metadata": {},
   "outputs": [],
   "source": [
    "df_08.to_csv('data_08_v3.csv', index=False)\n",
    "df_18.to_csv('data_18_v3.csv', index=False)"
   ]
  },
  {
   "cell_type": "code",
   "execution_count": null,
   "metadata": {},
   "outputs": [],
   "source": []
  },
  {
   "cell_type": "code",
   "execution_count": null,
   "metadata": {},
   "outputs": [],
   "source": []
  }
 ],
 "metadata": {
  "kernelspec": {
   "display_name": "Python 3",
   "language": "python",
   "name": "python3"
  },
  "language_info": {
   "codemirror_mode": {
    "name": "ipython",
    "version": 3
   },
   "file_extension": ".py",
   "mimetype": "text/x-python",
   "name": "python",
   "nbconvert_exporter": "python",
   "pygments_lexer": "ipython3",
   "version": "3.6.3"
  }
 },
 "nbformat": 4,
 "nbformat_minor": 2
}
