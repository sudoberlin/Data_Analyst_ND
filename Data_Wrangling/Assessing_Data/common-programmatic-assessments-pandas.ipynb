{
 "cells": [
  {
   "cell_type": "markdown",
   "metadata": {
    "collapsed": true
   },
   "source": [
    "## Common Programmatic Assessments in pandas\n",
    "### Gather"
   ]
  },
  {
   "cell_type": "code",
   "execution_count": 1,
   "metadata": {},
   "outputs": [],
   "source": [
    "import pandas as pd"
   ]
  },
  {
   "cell_type": "code",
   "execution_count": 2,
   "metadata": {},
   "outputs": [],
   "source": [
    "patients = pd.read_csv('patients.csv')\n",
    "treatments = pd.read_csv('treatments.csv')\n",
    "adverse_reactions = pd.read_csv('adverse_reactions.csv')"
   ]
  },
  {
   "cell_type": "markdown",
   "metadata": {},
   "source": [
    "### Assess\n",
    "These are the programmatic assessment methods in pandas that you will probably use most often:\n",
    "\n",
    "* .head (DataFrame and Series)\n",
    "* .tail (DataFrame and Series)\n",
    "* .sample (DataFrame and Series)\n",
    "* .info (DataFrame only)\n",
    "* .describe (DataFrame and Series)\n",
    "* .value_counts (Series only)\n",
    "* Various methods of indexing and selecting data (.loc and bracket notation with/without boolean indexing, also .iloc)\n",
    "\n",
    "Try them out below and keep their results in mind. Some will come in handy later in the lesson.\n",
    "\n",
    "Check out the [pandas API reference](https://pandas.pydata.org/pandas-docs/stable/api.html) for detailed usage information."
   ]
  },
  {
   "cell_type": "markdown",
   "metadata": {},
   "source": [
    "Try `.head` and `.tail` on the `patients` table."
   ]
  },
  {
   "cell_type": "code",
   "execution_count": 3,
   "metadata": {},
   "outputs": [
    {
     "data": {
      "text/html": [
       "<div>\n",
       "<style scoped>\n",
       "    .dataframe tbody tr th:only-of-type {\n",
       "        vertical-align: middle;\n",
       "    }\n",
       "\n",
       "    .dataframe tbody tr th {\n",
       "        vertical-align: top;\n",
       "    }\n",
       "\n",
       "    .dataframe thead th {\n",
       "        text-align: right;\n",
       "    }\n",
       "</style>\n",
       "<table border=\"1\" class=\"dataframe\">\n",
       "  <thead>\n",
       "    <tr style=\"text-align: right;\">\n",
       "      <th></th>\n",
       "      <th>patient_id</th>\n",
       "      <th>assigned_sex</th>\n",
       "      <th>given_name</th>\n",
       "      <th>surname</th>\n",
       "      <th>address</th>\n",
       "      <th>city</th>\n",
       "      <th>state</th>\n",
       "      <th>zip_code</th>\n",
       "      <th>country</th>\n",
       "      <th>contact</th>\n",
       "      <th>birthdate</th>\n",
       "      <th>weight</th>\n",
       "      <th>height</th>\n",
       "      <th>bmi</th>\n",
       "    </tr>\n",
       "  </thead>\n",
       "  <tbody>\n",
       "    <tr>\n",
       "      <th>0</th>\n",
       "      <td>1</td>\n",
       "      <td>female</td>\n",
       "      <td>Zoe</td>\n",
       "      <td>Wellish</td>\n",
       "      <td>576 Brown Bear Drive</td>\n",
       "      <td>Rancho California</td>\n",
       "      <td>California</td>\n",
       "      <td>92390.0</td>\n",
       "      <td>United States</td>\n",
       "      <td>951-719-9170ZoeWellish@superrito.com</td>\n",
       "      <td>7/10/1976</td>\n",
       "      <td>121.7</td>\n",
       "      <td>66</td>\n",
       "      <td>19.6</td>\n",
       "    </tr>\n",
       "    <tr>\n",
       "      <th>1</th>\n",
       "      <td>2</td>\n",
       "      <td>female</td>\n",
       "      <td>Pamela</td>\n",
       "      <td>Hill</td>\n",
       "      <td>2370 University Hill Road</td>\n",
       "      <td>Armstrong</td>\n",
       "      <td>Illinois</td>\n",
       "      <td>61812.0</td>\n",
       "      <td>United States</td>\n",
       "      <td>PamelaSHill@cuvox.de+1 (217) 569-3204</td>\n",
       "      <td>4/3/1967</td>\n",
       "      <td>118.8</td>\n",
       "      <td>66</td>\n",
       "      <td>19.2</td>\n",
       "    </tr>\n",
       "    <tr>\n",
       "      <th>2</th>\n",
       "      <td>3</td>\n",
       "      <td>male</td>\n",
       "      <td>Jae</td>\n",
       "      <td>Debord</td>\n",
       "      <td>1493 Poling Farm Road</td>\n",
       "      <td>York</td>\n",
       "      <td>Nebraska</td>\n",
       "      <td>68467.0</td>\n",
       "      <td>United States</td>\n",
       "      <td>402-363-6804JaeMDebord@gustr.com</td>\n",
       "      <td>2/19/1980</td>\n",
       "      <td>177.8</td>\n",
       "      <td>71</td>\n",
       "      <td>24.8</td>\n",
       "    </tr>\n",
       "    <tr>\n",
       "      <th>3</th>\n",
       "      <td>4</td>\n",
       "      <td>male</td>\n",
       "      <td>Liêm</td>\n",
       "      <td>Phan</td>\n",
       "      <td>2335 Webster Street</td>\n",
       "      <td>Woodbridge</td>\n",
       "      <td>NJ</td>\n",
       "      <td>7095.0</td>\n",
       "      <td>United States</td>\n",
       "      <td>PhanBaLiem@jourrapide.com+1 (732) 636-8246</td>\n",
       "      <td>7/26/1951</td>\n",
       "      <td>220.9</td>\n",
       "      <td>70</td>\n",
       "      <td>31.7</td>\n",
       "    </tr>\n",
       "    <tr>\n",
       "      <th>4</th>\n",
       "      <td>5</td>\n",
       "      <td>male</td>\n",
       "      <td>Tim</td>\n",
       "      <td>Neudorf</td>\n",
       "      <td>1428 Turkey Pen Lane</td>\n",
       "      <td>Dothan</td>\n",
       "      <td>AL</td>\n",
       "      <td>36303.0</td>\n",
       "      <td>United States</td>\n",
       "      <td>334-515-7487TimNeudorf@cuvox.de</td>\n",
       "      <td>2/18/1928</td>\n",
       "      <td>192.3</td>\n",
       "      <td>27</td>\n",
       "      <td>26.1</td>\n",
       "    </tr>\n",
       "  </tbody>\n",
       "</table>\n",
       "</div>"
      ],
      "text/plain": [
       "   patient_id assigned_sex given_name  surname                    address  \\\n",
       "0           1       female        Zoe  Wellish       576 Brown Bear Drive   \n",
       "1           2       female     Pamela     Hill  2370 University Hill Road   \n",
       "2           3         male        Jae   Debord      1493 Poling Farm Road   \n",
       "3           4         male       Liêm     Phan        2335 Webster Street   \n",
       "4           5         male        Tim  Neudorf       1428 Turkey Pen Lane   \n",
       "\n",
       "                city       state  zip_code        country  \\\n",
       "0  Rancho California  California   92390.0  United States   \n",
       "1          Armstrong    Illinois   61812.0  United States   \n",
       "2               York    Nebraska   68467.0  United States   \n",
       "3         Woodbridge          NJ    7095.0  United States   \n",
       "4             Dothan          AL   36303.0  United States   \n",
       "\n",
       "                                      contact  birthdate  weight  height   bmi  \n",
       "0        951-719-9170ZoeWellish@superrito.com  7/10/1976   121.7      66  19.6  \n",
       "1       PamelaSHill@cuvox.de+1 (217) 569-3204   4/3/1967   118.8      66  19.2  \n",
       "2            402-363-6804JaeMDebord@gustr.com  2/19/1980   177.8      71  24.8  \n",
       "3  PhanBaLiem@jourrapide.com+1 (732) 636-8246  7/26/1951   220.9      70  31.7  \n",
       "4             334-515-7487TimNeudorf@cuvox.de  2/18/1928   192.3      27  26.1  "
      ]
     },
     "execution_count": 3,
     "metadata": {},
     "output_type": "execute_result"
    }
   ],
   "source": [
    "patients.head()"
   ]
  },
  {
   "cell_type": "code",
   "execution_count": 5,
   "metadata": {},
   "outputs": [
    {
     "data": {
      "text/html": [
       "<div>\n",
       "<style scoped>\n",
       "    .dataframe tbody tr th:only-of-type {\n",
       "        vertical-align: middle;\n",
       "    }\n",
       "\n",
       "    .dataframe tbody tr th {\n",
       "        vertical-align: top;\n",
       "    }\n",
       "\n",
       "    .dataframe thead th {\n",
       "        text-align: right;\n",
       "    }\n",
       "</style>\n",
       "<table border=\"1\" class=\"dataframe\">\n",
       "  <thead>\n",
       "    <tr style=\"text-align: right;\">\n",
       "      <th></th>\n",
       "      <th>patient_id</th>\n",
       "      <th>assigned_sex</th>\n",
       "      <th>given_name</th>\n",
       "      <th>surname</th>\n",
       "      <th>address</th>\n",
       "      <th>city</th>\n",
       "      <th>state</th>\n",
       "      <th>zip_code</th>\n",
       "      <th>country</th>\n",
       "      <th>contact</th>\n",
       "      <th>birthdate</th>\n",
       "      <th>weight</th>\n",
       "      <th>height</th>\n",
       "      <th>bmi</th>\n",
       "    </tr>\n",
       "  </thead>\n",
       "  <tbody>\n",
       "    <tr>\n",
       "      <th>498</th>\n",
       "      <td>499</td>\n",
       "      <td>male</td>\n",
       "      <td>Mustafa</td>\n",
       "      <td>Lindström</td>\n",
       "      <td>2530 Victoria Court</td>\n",
       "      <td>Milton Mills</td>\n",
       "      <td>ME</td>\n",
       "      <td>3852.0</td>\n",
       "      <td>United States</td>\n",
       "      <td>207-477-0579MustafaLindstrom@jourrapide.com</td>\n",
       "      <td>4/10/1959</td>\n",
       "      <td>181.1</td>\n",
       "      <td>72</td>\n",
       "      <td>24.6</td>\n",
       "    </tr>\n",
       "    <tr>\n",
       "      <th>499</th>\n",
       "      <td>500</td>\n",
       "      <td>male</td>\n",
       "      <td>Ruman</td>\n",
       "      <td>Bisliev</td>\n",
       "      <td>494 Clarksburg Park Road</td>\n",
       "      <td>Sedona</td>\n",
       "      <td>AZ</td>\n",
       "      <td>86341.0</td>\n",
       "      <td>United States</td>\n",
       "      <td>928-284-4492RumanBisliev@gustr.com</td>\n",
       "      <td>3/26/1948</td>\n",
       "      <td>239.6</td>\n",
       "      <td>70</td>\n",
       "      <td>34.4</td>\n",
       "    </tr>\n",
       "    <tr>\n",
       "      <th>500</th>\n",
       "      <td>501</td>\n",
       "      <td>female</td>\n",
       "      <td>Jinke</td>\n",
       "      <td>de Keizer</td>\n",
       "      <td>649 Nutter Street</td>\n",
       "      <td>Overland Park</td>\n",
       "      <td>MO</td>\n",
       "      <td>64110.0</td>\n",
       "      <td>United States</td>\n",
       "      <td>816-223-6007JinkedeKeizer@teleworm.us</td>\n",
       "      <td>1/13/1971</td>\n",
       "      <td>171.2</td>\n",
       "      <td>67</td>\n",
       "      <td>26.8</td>\n",
       "    </tr>\n",
       "    <tr>\n",
       "      <th>501</th>\n",
       "      <td>502</td>\n",
       "      <td>female</td>\n",
       "      <td>Chidalu</td>\n",
       "      <td>Onyekaozulu</td>\n",
       "      <td>3652 Boone Crockett Lane</td>\n",
       "      <td>Seattle</td>\n",
       "      <td>WA</td>\n",
       "      <td>98109.0</td>\n",
       "      <td>United States</td>\n",
       "      <td>ChidaluOnyekaozulu@jourrapide.com1 360 443 2060</td>\n",
       "      <td>2/13/1952</td>\n",
       "      <td>176.9</td>\n",
       "      <td>67</td>\n",
       "      <td>27.7</td>\n",
       "    </tr>\n",
       "    <tr>\n",
       "      <th>502</th>\n",
       "      <td>503</td>\n",
       "      <td>male</td>\n",
       "      <td>Pat</td>\n",
       "      <td>Gersten</td>\n",
       "      <td>2778 North Avenue</td>\n",
       "      <td>Burr</td>\n",
       "      <td>Nebraska</td>\n",
       "      <td>68324.0</td>\n",
       "      <td>United States</td>\n",
       "      <td>PatrickGersten@rhyta.com402-848-4923</td>\n",
       "      <td>5/3/1954</td>\n",
       "      <td>138.2</td>\n",
       "      <td>71</td>\n",
       "      <td>19.3</td>\n",
       "    </tr>\n",
       "  </tbody>\n",
       "</table>\n",
       "</div>"
      ],
      "text/plain": [
       "     patient_id assigned_sex given_name      surname  \\\n",
       "498         499         male    Mustafa    Lindström   \n",
       "499         500         male      Ruman      Bisliev   \n",
       "500         501       female      Jinke    de Keizer   \n",
       "501         502       female    Chidalu  Onyekaozulu   \n",
       "502         503         male        Pat      Gersten   \n",
       "\n",
       "                      address           city     state  zip_code  \\\n",
       "498       2530 Victoria Court   Milton Mills        ME    3852.0   \n",
       "499  494 Clarksburg Park Road         Sedona        AZ   86341.0   \n",
       "500         649 Nutter Street  Overland Park        MO   64110.0   \n",
       "501  3652 Boone Crockett Lane        Seattle        WA   98109.0   \n",
       "502         2778 North Avenue           Burr  Nebraska   68324.0   \n",
       "\n",
       "           country                                          contact  \\\n",
       "498  United States      207-477-0579MustafaLindstrom@jourrapide.com   \n",
       "499  United States               928-284-4492RumanBisliev@gustr.com   \n",
       "500  United States            816-223-6007JinkedeKeizer@teleworm.us   \n",
       "501  United States  ChidaluOnyekaozulu@jourrapide.com1 360 443 2060   \n",
       "502  United States             PatrickGersten@rhyta.com402-848-4923   \n",
       "\n",
       "     birthdate  weight  height   bmi  \n",
       "498  4/10/1959   181.1      72  24.6  \n",
       "499  3/26/1948   239.6      70  34.4  \n",
       "500  1/13/1971   171.2      67  26.8  \n",
       "501  2/13/1952   176.9      67  27.7  \n",
       "502   5/3/1954   138.2      71  19.3  "
      ]
     },
     "execution_count": 5,
     "metadata": {},
     "output_type": "execute_result"
    }
   ],
   "source": [
    "patients.tail()"
   ]
  },
  {
   "cell_type": "markdown",
   "metadata": {},
   "source": [
    "Try `.sample` on the `treatments` table."
   ]
  },
  {
   "cell_type": "code",
   "execution_count": 7,
   "metadata": {},
   "outputs": [
    {
     "data": {
      "text/html": [
       "<div>\n",
       "<style scoped>\n",
       "    .dataframe tbody tr th:only-of-type {\n",
       "        vertical-align: middle;\n",
       "    }\n",
       "\n",
       "    .dataframe tbody tr th {\n",
       "        vertical-align: top;\n",
       "    }\n",
       "\n",
       "    .dataframe thead th {\n",
       "        text-align: right;\n",
       "    }\n",
       "</style>\n",
       "<table border=\"1\" class=\"dataframe\">\n",
       "  <thead>\n",
       "    <tr style=\"text-align: right;\">\n",
       "      <th></th>\n",
       "      <th>given_name</th>\n",
       "      <th>surname</th>\n",
       "      <th>auralin</th>\n",
       "      <th>novodra</th>\n",
       "      <th>hba1c_start</th>\n",
       "      <th>hba1c_end</th>\n",
       "      <th>hba1c_change</th>\n",
       "    </tr>\n",
       "  </thead>\n",
       "  <tbody>\n",
       "    <tr>\n",
       "      <th>239</th>\n",
       "      <td>linda</td>\n",
       "      <td>lundy</td>\n",
       "      <td>-</td>\n",
       "      <td>48u - 53u</td>\n",
       "      <td>7.97</td>\n",
       "      <td>7.52</td>\n",
       "      <td>0.95</td>\n",
       "    </tr>\n",
       "  </tbody>\n",
       "</table>\n",
       "</div>"
      ],
      "text/plain": [
       "    given_name surname auralin    novodra  hba1c_start  hba1c_end  \\\n",
       "239      linda   lundy       -  48u - 53u         7.97       7.52   \n",
       "\n",
       "     hba1c_change  \n",
       "239          0.95  "
      ]
     },
     "execution_count": 7,
     "metadata": {},
     "output_type": "execute_result"
    }
   ],
   "source": [
    "treatments.sample()"
   ]
  },
  {
   "cell_type": "markdown",
   "metadata": {},
   "source": [
    "Try `.info` on the `treatments` table."
   ]
  },
  {
   "cell_type": "code",
   "execution_count": 8,
   "metadata": {
    "scrolled": true
   },
   "outputs": [
    {
     "name": "stdout",
     "output_type": "stream",
     "text": [
      "<class 'pandas.core.frame.DataFrame'>\n",
      "RangeIndex: 280 entries, 0 to 279\n",
      "Data columns (total 7 columns):\n",
      "given_name      280 non-null object\n",
      "surname         280 non-null object\n",
      "auralin         280 non-null object\n",
      "novodra         280 non-null object\n",
      "hba1c_start     280 non-null float64\n",
      "hba1c_end       280 non-null float64\n",
      "hba1c_change    171 non-null float64\n",
      "dtypes: float64(3), object(4)\n",
      "memory usage: 15.4+ KB\n"
     ]
    }
   ],
   "source": [
    "treatments.info()"
   ]
  },
  {
   "cell_type": "code",
   "execution_count": 18,
   "metadata": {},
   "outputs": [
    {
     "name": "stdout",
     "output_type": "stream",
     "text": [
      "<class 'pandas.core.frame.DataFrame'>\n",
      "RangeIndex: 34 entries, 0 to 33\n",
      "Data columns (total 3 columns):\n",
      "given_name          34 non-null object\n",
      "surname             34 non-null object\n",
      "adverse_reaction    34 non-null object\n",
      "dtypes: object(3)\n",
      "memory usage: 896.0+ bytes\n"
     ]
    }
   ],
   "source": [
    "adverse_reactions.info()"
   ]
  },
  {
   "cell_type": "markdown",
   "metadata": {},
   "source": [
    "Try `.describe` on the `patients` table."
   ]
  },
  {
   "cell_type": "code",
   "execution_count": 9,
   "metadata": {},
   "outputs": [
    {
     "data": {
      "text/html": [
       "<div>\n",
       "<style scoped>\n",
       "    .dataframe tbody tr th:only-of-type {\n",
       "        vertical-align: middle;\n",
       "    }\n",
       "\n",
       "    .dataframe tbody tr th {\n",
       "        vertical-align: top;\n",
       "    }\n",
       "\n",
       "    .dataframe thead th {\n",
       "        text-align: right;\n",
       "    }\n",
       "</style>\n",
       "<table border=\"1\" class=\"dataframe\">\n",
       "  <thead>\n",
       "    <tr style=\"text-align: right;\">\n",
       "      <th></th>\n",
       "      <th>patient_id</th>\n",
       "      <th>zip_code</th>\n",
       "      <th>weight</th>\n",
       "      <th>height</th>\n",
       "      <th>bmi</th>\n",
       "    </tr>\n",
       "  </thead>\n",
       "  <tbody>\n",
       "    <tr>\n",
       "      <th>count</th>\n",
       "      <td>503.000000</td>\n",
       "      <td>491.000000</td>\n",
       "      <td>503.000000</td>\n",
       "      <td>503.000000</td>\n",
       "      <td>503.000000</td>\n",
       "    </tr>\n",
       "    <tr>\n",
       "      <th>mean</th>\n",
       "      <td>252.000000</td>\n",
       "      <td>49084.118126</td>\n",
       "      <td>173.434990</td>\n",
       "      <td>66.634195</td>\n",
       "      <td>27.483897</td>\n",
       "    </tr>\n",
       "    <tr>\n",
       "      <th>std</th>\n",
       "      <td>145.347859</td>\n",
       "      <td>30265.807442</td>\n",
       "      <td>33.916741</td>\n",
       "      <td>4.411297</td>\n",
       "      <td>5.276438</td>\n",
       "    </tr>\n",
       "    <tr>\n",
       "      <th>min</th>\n",
       "      <td>1.000000</td>\n",
       "      <td>1002.000000</td>\n",
       "      <td>48.800000</td>\n",
       "      <td>27.000000</td>\n",
       "      <td>17.100000</td>\n",
       "    </tr>\n",
       "    <tr>\n",
       "      <th>25%</th>\n",
       "      <td>126.500000</td>\n",
       "      <td>21920.500000</td>\n",
       "      <td>149.300000</td>\n",
       "      <td>63.000000</td>\n",
       "      <td>23.300000</td>\n",
       "    </tr>\n",
       "    <tr>\n",
       "      <th>50%</th>\n",
       "      <td>252.000000</td>\n",
       "      <td>48057.000000</td>\n",
       "      <td>175.300000</td>\n",
       "      <td>67.000000</td>\n",
       "      <td>27.200000</td>\n",
       "    </tr>\n",
       "    <tr>\n",
       "      <th>75%</th>\n",
       "      <td>377.500000</td>\n",
       "      <td>75679.000000</td>\n",
       "      <td>199.500000</td>\n",
       "      <td>70.000000</td>\n",
       "      <td>31.750000</td>\n",
       "    </tr>\n",
       "    <tr>\n",
       "      <th>max</th>\n",
       "      <td>503.000000</td>\n",
       "      <td>99701.000000</td>\n",
       "      <td>255.900000</td>\n",
       "      <td>79.000000</td>\n",
       "      <td>37.700000</td>\n",
       "    </tr>\n",
       "  </tbody>\n",
       "</table>\n",
       "</div>"
      ],
      "text/plain": [
       "       patient_id      zip_code      weight      height         bmi\n",
       "count  503.000000    491.000000  503.000000  503.000000  503.000000\n",
       "mean   252.000000  49084.118126  173.434990   66.634195   27.483897\n",
       "std    145.347859  30265.807442   33.916741    4.411297    5.276438\n",
       "min      1.000000   1002.000000   48.800000   27.000000   17.100000\n",
       "25%    126.500000  21920.500000  149.300000   63.000000   23.300000\n",
       "50%    252.000000  48057.000000  175.300000   67.000000   27.200000\n",
       "75%    377.500000  75679.000000  199.500000   70.000000   31.750000\n",
       "max    503.000000  99701.000000  255.900000   79.000000   37.700000"
      ]
     },
     "execution_count": 9,
     "metadata": {},
     "output_type": "execute_result"
    }
   ],
   "source": [
    "patients.describe()"
   ]
  },
  {
   "cell_type": "markdown",
   "metadata": {},
   "source": [
    "Try `.value_counts` on the *adverse_reaction* column of the `adverse_reactions` table."
   ]
  },
  {
   "cell_type": "code",
   "execution_count": 19,
   "metadata": {},
   "outputs": [
    {
     "data": {
      "text/plain": [
       "hypoglycemia                 19\n",
       "injection site discomfort     6\n",
       "headache                      3\n",
       "throat irritation             2\n",
       "nausea                        2\n",
       "cough                         2\n",
       "Name: adverse_reaction, dtype: int64"
      ]
     },
     "execution_count": 19,
     "metadata": {},
     "output_type": "execute_result"
    }
   ],
   "source": [
    "adverse_reactions['adverse_reaction'].value_counts()\n"
   ]
  },
  {
   "cell_type": "code",
   "execution_count": 21,
   "metadata": {},
   "outputs": [
    {
     "name": "stdout",
     "output_type": "stream",
     "text": [
      "<class 'pandas.core.frame.DataFrame'>\n",
      "RangeIndex: 503 entries, 0 to 502\n",
      "Data columns (total 14 columns):\n",
      "patient_id      503 non-null int64\n",
      "assigned_sex    503 non-null object\n",
      "given_name      503 non-null object\n",
      "surname         503 non-null object\n",
      "address         491 non-null object\n",
      "city            491 non-null object\n",
      "state           491 non-null object\n",
      "zip_code        491 non-null float64\n",
      "country         491 non-null object\n",
      "contact         491 non-null object\n",
      "birthdate       503 non-null object\n",
      "weight          503 non-null float64\n",
      "height          503 non-null int64\n",
      "bmi             503 non-null float64\n",
      "dtypes: float64(3), int64(2), object(9)\n",
      "memory usage: 55.1+ KB\n"
     ]
    }
   ],
   "source": [
    "patients.info()"
   ]
  },
  {
   "cell_type": "markdown",
   "metadata": {},
   "source": [
    "Try selecting the records in the `patients` table for patients that are from the *city* New York."
   ]
  },
  {
   "cell_type": "code",
   "execution_count": 22,
   "metadata": {},
   "outputs": [
    {
     "data": {
      "text/plain": [
       "New York           18\n",
       "San Diego           8\n",
       "Tulsa               7\n",
       "Houston             6\n",
       "Atlanta             6\n",
       "Chicago             6\n",
       "Philadelphia        5\n",
       "Los Angeles         5\n",
       "Pittsburgh          5\n",
       "Providence          4\n",
       "San Antonio         4\n",
       "Sacramento          4\n",
       "New Orleans         4\n",
       "Portland            4\n",
       "Manhattan           3\n",
       "San Jose            3\n",
       "Bedford             3\n",
       "Westbury            3\n",
       "Albany              3\n",
       "Birmingham          3\n",
       "Washington          3\n",
       "Seattle             3\n",
       "Tampa               3\n",
       "Garden City         3\n",
       "Hartford            3\n",
       "Burbank             3\n",
       "Oklahoma City       3\n",
       "Lombard             3\n",
       "Boston              3\n",
       "Newport News        3\n",
       "                   ..\n",
       "Mount Pleasant      1\n",
       "Brattleboro         1\n",
       "Marlboro            1\n",
       "Waco                1\n",
       "Stockton            1\n",
       "Wilmington          1\n",
       "Englewood           1\n",
       "Gypsum              1\n",
       "Mount Airy          1\n",
       "Fairbanks           1\n",
       "Burlington          1\n",
       "Fort Worth          1\n",
       "Roslyn              1\n",
       "Ottawa              1\n",
       "Fresno              1\n",
       "Gate                1\n",
       "Crawfordsville      1\n",
       "Taunton             1\n",
       "State Line          1\n",
       "Anaheim             1\n",
       "Meriden             1\n",
       "Fort Washington     1\n",
       "Citrus Heights      1\n",
       "Yazoo City          1\n",
       "San Carlos          1\n",
       "Union Grove         1\n",
       "Palo Alto           1\n",
       "Monroeville         1\n",
       "Brentwood           1\n",
       "Versailles          1\n",
       "Name: city, Length: 349, dtype: int64"
      ]
     },
     "execution_count": 22,
     "metadata": {},
     "output_type": "execute_result"
    }
   ],
   "source": [
    "patients['city'].value_counts()"
   ]
  },
  {
   "cell_type": "code",
   "execution_count": null,
   "metadata": {},
   "outputs": [],
   "source": []
  },
  {
   "cell_type": "code",
   "execution_count": null,
   "metadata": {},
   "outputs": [],
   "source": []
  }
 ],
 "metadata": {
  "kernelspec": {
   "display_name": "Python 3",
   "language": "python",
   "name": "python3"
  },
  "language_info": {
   "codemirror_mode": {
    "name": "ipython",
    "version": 3
   },
   "file_extension": ".py",
   "mimetype": "text/x-python",
   "name": "python",
   "nbconvert_exporter": "python",
   "pygments_lexer": "ipython3",
   "version": "3.6.3"
  }
 },
 "nbformat": 4,
 "nbformat_minor": 2
}
